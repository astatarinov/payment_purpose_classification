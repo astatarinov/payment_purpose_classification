{
 "cells": [
  {
   "cell_type": "markdown",
   "id": "32f54cc1-6864-41df-8816-794a624dd570",
   "metadata": {},
   "source": [
    "### Импорт необходимых библиотек"
   ]
  },
  {
   "cell_type": "code",
   "execution_count": 1,
   "id": "25c888c4-8265-48ce-b2b8-21a9c8525030",
   "metadata": {
    "execution": {
     "iopub.execute_input": "2025-02-14T13:53:05.955631Z",
     "iopub.status.busy": "2025-02-14T13:53:05.955410Z",
     "iopub.status.idle": "2025-02-14T13:53:11.666853Z",
     "shell.execute_reply": "2025-02-14T13:53:11.665874Z",
     "shell.execute_reply.started": "2025-02-14T13:53:05.955606Z"
    },
    "tags": []
   },
   "outputs": [],
   "source": [
    "import urllib3\n",
    "import pandas as pd\n",
    "import numpy as np\n",
    "import random\n",
    "\n",
    "from keycloak import KeycloakOpenID\n",
    "from openai import AsyncClient\n",
    "from catboost import CatBoostClassifier\n",
    "import umap.umap_ as umap\n",
    "from hdbscan import HDBSCAN\n",
    "from collections import defaultdict\n",
    "from tqdm import tqdm\n",
    "\n",
    "\n",
    "urllib3.disable_warnings(urllib3.exceptions.InsecureRequestWarning)"
   ]
  },
  {
   "cell_type": "markdown",
   "id": "1451caee-acb9-40dd-8095-03a3265311cd",
   "metadata": {},
   "source": [
    "### Настройка доступов, аутентификация и инициализация клиента для эмбеддингов\n"
   ]
  },
  {
   "cell_type": "code",
   "execution_count": 2,
   "id": "7c24a498-d78c-496e-aa81-8b1cc633772a",
   "metadata": {
    "execution": {
     "iopub.execute_input": "2025-02-14T13:53:11.669255Z",
     "iopub.status.busy": "2025-02-14T13:53:11.668674Z",
     "iopub.status.idle": "2025-02-14T13:53:11.844264Z",
     "shell.execute_reply": "2025-02-14T13:53:11.843348Z",
     "shell.execute_reply.started": "2025-02-14T13:53:11.669229Z"
    },
    "tags": []
   },
   "outputs": [],
   "source": [
    "LLM_ENDPOINT = \"\"\n",
    "AUTH_USERNAME = \"\"\n",
    "AUTH_PASSWORD = \"\"\n",
    "API_TOKEN = \"\"\n",
    "\n",
    "\n",
    "client = AsyncClient(\n",
    "    base_url=LLM_ENDPOINT,\n",
    "    api_key=API_TOKEN\n",
    ")\n",
    "\n",
    "keycloak_openid = KeycloakOpenID(\n",
    "    server_url=\"\",\n",
    "    client_id=\"\",\n",
    "    realm_name=\"\",\n",
    "    verify=False\n",
    ")\n",
    "\n",
    "\n",
    "def get_api_token_from_keycloack() -> str:\n",
    "    token = keycloak_openid.token(username=AUTH_USERNAME, password=AUTH_PASSWORD)\n",
    "    return token[\"access_token\"]\n",
    "\n",
    "access_token = get_api_token_from_keycloack()"
   ]
  },
  {
   "cell_type": "markdown",
   "id": "d9a5ec0d-8aca-4ef7-b312-410307848d9f",
   "metadata": {},
   "source": [
    "### Загрузка данных и предобработка"
   ]
  },
  {
   "cell_type": "code",
   "execution_count": 3,
   "id": "de8a4f5a-8f84-42de-b9b1-7bad9372bace",
   "metadata": {
    "execution": {
     "iopub.execute_input": "2025-02-14T13:53:11.846153Z",
     "iopub.status.busy": "2025-02-14T13:53:11.845289Z",
     "iopub.status.idle": "2025-02-14T13:53:13.757329Z",
     "shell.execute_reply": "2025-02-14T13:53:13.756368Z",
     "shell.execute_reply.started": "2025-02-14T13:53:11.846114Z"
    },
    "tags": []
   },
   "outputs": [],
   "source": [
    "df = pd.read_csv('lemma_data.csv')\n",
    "df['clean_purpose'] = df['purpose'].str.lower()\n",
    "df['clean_purpose'] = df['clean_purpose'].str.replace('ндс не облагается', '', regex=False)\n"
   ]
  },
  {
   "cell_type": "markdown",
   "id": "1bd8350e-cfda-42bf-814f-66ea9c53eec6",
   "metadata": {},
   "source": [
    "### Загрузка модели и предсказание классов"
   ]
  },
  {
   "cell_type": "code",
   "execution_count": 4,
   "id": "9fd2d6b7-fce8-483c-a3dc-0e7dd8948858",
   "metadata": {
    "execution": {
     "iopub.execute_input": "2025-02-14T13:53:13.758859Z",
     "iopub.status.busy": "2025-02-14T13:53:13.758596Z",
     "iopub.status.idle": "2025-02-14T13:53:13.770510Z",
     "shell.execute_reply": "2025-02-14T13:53:13.769724Z",
     "shell.execute_reply.started": "2025-02-14T13:53:13.758831Z"
    },
    "tags": []
   },
   "outputs": [
    {
     "data": {
      "text/plain": [
       "<catboost.core.CatBoostClassifier at 0x7f6a7088ded0>"
      ]
     },
     "execution_count": 4,
     "metadata": {},
     "output_type": "execute_result"
    }
   ],
   "source": [
    "model = CatBoostClassifier()\n",
    "model.load_model('model_multiclass.cb')"
   ]
  },
  {
   "cell_type": "code",
   "execution_count": 5,
   "id": "e3357db8-47a4-410d-8c95-44d08b618920",
   "metadata": {
    "execution": {
     "iopub.execute_input": "2025-02-14T13:53:13.772164Z",
     "iopub.status.busy": "2025-02-14T13:53:13.771706Z",
     "iopub.status.idle": "2025-02-14T13:53:13.779736Z",
     "shell.execute_reply": "2025-02-14T13:53:13.778827Z",
     "shell.execute_reply.started": "2025-02-14T13:53:13.772137Z"
    },
    "tags": []
   },
   "outputs": [],
   "source": [
    "test_set = df.sample(100, random_state=69).clean_purpose.values\n"
   ]
  },
  {
   "cell_type": "code",
   "execution_count": 6,
   "id": "b11ca13b-6c0d-41ca-a011-9895fa8560b4",
   "metadata": {
    "execution": {
     "iopub.execute_input": "2025-02-14T13:53:13.782757Z",
     "iopub.status.busy": "2025-02-14T13:53:13.782206Z",
     "iopub.status.idle": "2025-02-14T13:53:13.791920Z",
     "shell.execute_reply": "2025-02-14T13:53:13.790931Z",
     "shell.execute_reply.started": "2025-02-14T13:53:13.782729Z"
    },
    "tags": []
   },
   "outputs": [],
   "source": [
    "preds = model.predict(test_set.reshape(len(test_set), -1))\n"
   ]
  },
  {
   "cell_type": "code",
   "execution_count": 7,
   "id": "4fe4535a-c824-4e89-9bfa-77eeb027edbc",
   "metadata": {
    "execution": {
     "iopub.execute_input": "2025-02-14T13:53:13.793211Z",
     "iopub.status.busy": "2025-02-14T13:53:13.792876Z",
     "iopub.status.idle": "2025-02-14T13:53:13.798225Z",
     "shell.execute_reply": "2025-02-14T13:53:13.797019Z",
     "shell.execute_reply.started": "2025-02-14T13:53:13.793186Z"
    },
    "tags": []
   },
   "outputs": [],
   "source": [
    "other_indexes = []\n",
    "for idx, p in enumerate(preds):\n",
    "    if p[0] == 'other':\n",
    "        other_indexes.append(idx)\n",
    "\n",
    "other_texts = test_set[other_indexes]"
   ]
  },
  {
   "cell_type": "markdown",
   "id": "9559f851-7bef-4088-ba64-5e96a16c322f",
   "metadata": {},
   "source": [
    "### Генерация эмбеддингов для текстов категории \"other\"\n"
   ]
  },
  {
   "cell_type": "code",
   "execution_count": 8,
   "id": "042abb55-0834-4ab1-a343-3f0f2d93cb09",
   "metadata": {
    "execution": {
     "iopub.execute_input": "2025-02-14T13:53:13.800205Z",
     "iopub.status.busy": "2025-02-14T13:53:13.799577Z",
     "iopub.status.idle": "2025-02-14T13:53:14.782862Z",
     "shell.execute_reply": "2025-02-14T13:53:14.782007Z",
     "shell.execute_reply.started": "2025-02-14T13:53:13.800167Z"
    },
    "tags": []
   },
   "outputs": [
    {
     "name": "stderr",
     "output_type": "stream",
     "text": [
      "Embeddings generation: 100%|██████████| 1/1 [00:00<00:00,  1.08it/s]\n"
     ]
    }
   ],
   "source": [
    "client.api_key = get_api_token_from_keycloack()\n",
    "\n",
    "all_embeds = []\n",
    "\n",
    "for i in tqdm(range(0, len(other_indexes), 100), desc=\"Embeddings generation\"):\n",
    "    for _ in range(2):\n",
    "        try:\n",
    "            e5_embeddings = await client.embeddings.create(\n",
    "                input=other_texts[i:i+100],\n",
    "                model=\"e5\"\n",
    "            )\n",
    "            embeddings = [item.embeddings for item in e5_embeddings.data]\n",
    "            break\n",
    "        except:\n",
    "            client.api_key = get_api_token_from_keycloack()\n",
    "    all_embeds.append(embeddings)"
   ]
  },
  {
   "cell_type": "code",
   "execution_count": 9,
   "id": "cdfa81b9-435e-48ae-9877-cb82b8b319be",
   "metadata": {
    "execution": {
     "iopub.execute_input": "2025-02-14T13:53:14.784443Z",
     "iopub.status.busy": "2025-02-14T13:53:14.784221Z",
     "iopub.status.idle": "2025-02-14T13:53:14.787846Z",
     "shell.execute_reply": "2025-02-14T13:53:14.787079Z",
     "shell.execute_reply.started": "2025-02-14T13:53:14.784419Z"
    },
    "tags": []
   },
   "outputs": [],
   "source": [
    "big_data = []\n",
    "for batch_embeddings in all_embeds:\n",
    "    big_data.extend(batch_embeddings)"
   ]
  },
  {
   "cell_type": "markdown",
   "id": "cb765fe2-5217-4df4-9599-9b9a30638291",
   "metadata": {},
   "source": [
    "### Уменьшение размерности с помощью UMAP"
   ]
  },
  {
   "cell_type": "code",
   "execution_count": 10,
   "id": "50670b69-09ae-416b-83e9-4f43cd42349d",
   "metadata": {
    "execution": {
     "iopub.execute_input": "2025-02-14T13:53:14.789172Z",
     "iopub.status.busy": "2025-02-14T13:53:14.788759Z",
     "iopub.status.idle": "2025-02-14T13:53:22.449369Z",
     "shell.execute_reply": "2025-02-14T13:53:22.448418Z",
     "shell.execute_reply.started": "2025-02-14T13:53:14.789147Z"
    },
    "tags": []
   },
   "outputs": [
    {
     "name": "stderr",
     "output_type": "stream",
     "text": [
      "/home/jovyan/.local/lib/python3.10/site-packages/sklearn/utils/deprecation.py:151: FutureWarning: 'force_all_finite' was renamed to 'ensure_all_finite' in 1.6 and will be removed in 1.8.\n",
      "  warnings.warn(\n",
      "/home/jovyan/.local/lib/python3.10/site-packages/umap/umap_.py:1952: UserWarning: n_jobs value 1 overridden to 1 by setting random_state. Use no seed for parallelism.\n",
      "  warn(\n"
     ]
    }
   ],
   "source": [
    "umap_model = umap.UMAP(\n",
    "    n_components=5,\n",
    "    min_dist=0.0,\n",
    "    metric='cosine',\n",
    "    random_state=42\n",
    ")\n",
    "\n",
    "reduced_embeddings = umap_model.fit_transform(big_data)"
   ]
  },
  {
   "cell_type": "code",
   "execution_count": 11,
   "id": "d470ffd8-5a05-4201-b55e-07fd1e7f7b90",
   "metadata": {
    "execution": {
     "iopub.execute_input": "2025-02-14T13:53:22.450741Z",
     "iopub.status.busy": "2025-02-14T13:53:22.450490Z",
     "iopub.status.idle": "2025-02-14T13:53:22.455192Z",
     "shell.execute_reply": "2025-02-14T13:53:22.454127Z",
     "shell.execute_reply.started": "2025-02-14T13:53:22.450717Z"
    },
    "tags": []
   },
   "outputs": [],
   "source": [
    "embedding_dict = {other_texts[i]: reduced_embeddings[i] for i in range(len(other_texts))}\n"
   ]
  },
  {
   "cell_type": "markdown",
   "id": "e7cfe62c-c058-46c1-9eb0-0385371f3aee",
   "metadata": {},
   "source": [
    "### Кластеризация на большие кластеры"
   ]
  },
  {
   "cell_type": "code",
   "execution_count": 12,
   "id": "b1e09061-51cf-4a17-a1af-58d05040ef5c",
   "metadata": {
    "execution": {
     "iopub.execute_input": "2025-02-14T13:53:22.456583Z",
     "iopub.status.busy": "2025-02-14T13:53:22.456169Z",
     "iopub.status.idle": "2025-02-14T13:53:22.464406Z",
     "shell.execute_reply": "2025-02-14T13:53:22.463589Z",
     "shell.execute_reply.started": "2025-02-14T13:53:22.456558Z"
    },
    "tags": []
   },
   "outputs": [
    {
     "name": "stderr",
     "output_type": "stream",
     "text": [
      "/home/jovyan/.local/lib/python3.10/site-packages/sklearn/utils/deprecation.py:151: FutureWarning: 'force_all_finite' was renamed to 'ensure_all_finite' in 1.6 and will be removed in 1.8.\n",
      "  warnings.warn(\n",
      "/home/jovyan/.local/lib/python3.10/site-packages/sklearn/utils/deprecation.py:151: FutureWarning: 'force_all_finite' was renamed to 'ensure_all_finite' in 1.6 and will be removed in 1.8.\n",
      "  warnings.warn(\n"
     ]
    }
   ],
   "source": [
    "hdbscan_model = HDBSCAN(\n",
    "    min_cluster_size=50,\n",
    "    metric=\"euclidean\",\n",
    "    cluster_selection_method=\"eom\"\n",
    ")\n",
    "\n",
    "clusters = hdbscan_model.fit_predict(reduced_embeddings)"
   ]
  },
  {
   "cell_type": "code",
   "execution_count": 13,
   "id": "039d17eb-8871-4b62-8229-f3c57ff70e84",
   "metadata": {
    "execution": {
     "iopub.execute_input": "2025-02-14T13:53:22.465806Z",
     "iopub.status.busy": "2025-02-14T13:53:22.465315Z",
     "iopub.status.idle": "2025-02-14T13:53:22.469492Z",
     "shell.execute_reply": "2025-02-14T13:53:22.468604Z",
     "shell.execute_reply.started": "2025-02-14T13:53:22.465780Z"
    },
    "tags": []
   },
   "outputs": [],
   "source": [
    "cluster_texts = defaultdict(list)\n",
    "for text, cluster in zip(other_texts, clusters):\n",
    "    cluster_texts[cluster].append(text)\n",
    "\n",
    "cluster_texts = dict(cluster_texts)\n"
   ]
  },
  {
   "cell_type": "markdown",
   "id": "9bd8cccc-be0d-48d3-b0a5-9c5a7e4885e6",
   "metadata": {},
   "source": [
    "### Идея: из каждого кластера берём по немного из ближней, средней и дальней зон от центроида, чтобы получить разнообразные примеры"
   ]
  },
  {
   "cell_type": "code",
   "execution_count": 14,
   "id": "1144d327-c3d5-41bb-975a-eff6bcbec15b",
   "metadata": {
    "execution": {
     "iopub.execute_input": "2025-02-14T13:53:22.470831Z",
     "iopub.status.busy": "2025-02-14T13:53:22.470421Z",
     "iopub.status.idle": "2025-02-14T13:53:22.475038Z",
     "shell.execute_reply": "2025-02-14T13:53:22.474157Z",
     "shell.execute_reply.started": "2025-02-14T13:53:22.470807Z"
    },
    "tags": []
   },
   "outputs": [],
   "source": [
    "def compute_centroid(vectors: np.ndarray) -> np.ndarray:\n",
    "    return vectors.mean(axis=0)\n",
    "\n",
    "\n",
    "def sample_zone(zone, k):\n",
    "    if len(zone) <= k:\n",
    "        return zone\n",
    "    else:\n",
    "        return random.sample(zone, k)"
   ]
  },
  {
   "cell_type": "code",
   "execution_count": 15,
   "id": "01879121-2d61-4f3e-9614-4cee88b884c9",
   "metadata": {
    "execution": {
     "iopub.execute_input": "2025-02-14T13:53:22.476210Z",
     "iopub.status.busy": "2025-02-14T13:53:22.475977Z",
     "iopub.status.idle": "2025-02-14T13:53:22.483955Z",
     "shell.execute_reply": "2025-02-14T13:53:22.483130Z",
     "shell.execute_reply.started": "2025-02-14T13:53:22.476187Z"
    },
    "tags": []
   },
   "outputs": [
    {
     "name": "stdout",
     "output_type": "stream",
     "text": [
      "Всего выбрано 88 текстов для разметки.\n"
     ]
    }
   ],
   "source": [
    "SAMPLES_PER_ZONE = 40\n",
    "sample_for_annotation = []\n",
    "\n",
    "\n",
    "for cluster_id, texts in cluster_texts.items():\n",
    "    if not texts:\n",
    "        continue\n",
    "\n",
    "    cluster_vectors = np.array([embedding_dict[t] for t in texts])\n",
    "    centroid = compute_centroid(cluster_vectors)\n",
    "    distances = np.linalg.norm(cluster_vectors - centroid, axis=1)\n",
    "    text_dist_pairs = list(zip(texts, distances))\n",
    "    text_dist_pairs.sort(key=lambda x: x[1])\n",
    "    \n",
    "    n = len(text_dist_pairs)\n",
    "    near_boundary = n // 3\n",
    "    mid_boundary = 2 * n // 3\n",
    "    \n",
    "    near_zone = text_dist_pairs[:near_boundary]\n",
    "    mid_zone  = text_dist_pairs[near_boundary:mid_boundary]\n",
    "    far_zone  = text_dist_pairs[mid_boundary:]\n",
    "    \n",
    "    near_samples = sample_zone(near_zone, SAMPLES_PER_ZONE)\n",
    "    mid_samples = sample_zone(mid_zone, SAMPLES_PER_ZONE)\n",
    "    far_samples = sample_zone(far_zone, SAMPLES_PER_ZONE)\n",
    "    \n",
    "    for (txt, dist) in (near_samples + mid_samples + far_samples):\n",
    "        sample_for_annotation.append((cluster_id, txt, dist))\n",
    "\n",
    "final_texts_for_annotation = [item[1] for item in sample_for_annotation]\n",
    "\n",
    "print(f\"Всего выбрано {len(final_texts_for_annotation)} текстов для разметки.\")"
   ]
  },
  {
   "cell_type": "markdown",
   "id": "2aa3a8f3-7109-446d-9403-88719715dfd0",
   "metadata": {
    "execution": {
     "iopub.execute_input": "2025-02-14T13:51:53.652541Z",
     "iopub.status.busy": "2025-02-14T13:51:53.651990Z",
     "iopub.status.idle": "2025-02-14T13:51:53.656656Z",
     "shell.execute_reply": "2025-02-14T13:51:53.655774Z",
     "shell.execute_reply.started": "2025-02-14T13:51:53.652507Z"
    },
    "tags": []
   },
   "source": [
    "### Удаление «почти дублей»  с помощью кластеризации на мини-кластеры\n"
   ]
  },
  {
   "cell_type": "code",
   "execution_count": 16,
   "id": "956c09c9-c035-4b5c-a06f-fdbe18fec177",
   "metadata": {
    "execution": {
     "iopub.execute_input": "2025-02-14T13:53:22.485453Z",
     "iopub.status.busy": "2025-02-14T13:53:22.485038Z",
     "iopub.status.idle": "2025-02-14T13:53:22.490455Z",
     "shell.execute_reply": "2025-02-14T13:53:22.489584Z",
     "shell.execute_reply.started": "2025-02-14T13:53:22.485428Z"
    },
    "tags": []
   },
   "outputs": [],
   "source": [
    "def remove_near_duplicates_hdbscan(selected_texts, embedding_dict, min_cluster_size=2):\n",
    "    \"\"\"\n",
    "    Убирает «почти дубли» с помощью HDBSCAN.\n",
    "    \n",
    "    :param selected_texts: список текстов, в которых ищем дубликаты\n",
    "    :param embedding_dict: словарь {текст: вектор np.ndarray}\n",
    "    :param min_cluster_size: минимальный размер кластера. Если выставить 2,\n",
    "                            то объединяются только тексты с близкими эмбеддингами.\n",
    "    :return: список текстов без почти дублей\n",
    "    \"\"\"\n",
    "    X = np.array([embedding_dict[text] for text in selected_texts])\n",
    "    \n",
    "    clusterer = HDBSCAN(min_cluster_size=min_cluster_size, metric=\"euclidean\")\n",
    "    labels = clusterer.fit_predict(X)\n",
    "\n",
    "    unique_labels = np.unique(labels)\n",
    "    deduped_texts = []\n",
    "    \n",
    "    for label in unique_labels:\n",
    "        cluster_indices = np.where(labels == label)[0]\n",
    "        representative_idx = cluster_indices[0]\n",
    "        deduped_texts.append(selected_texts[representative_idx])\n",
    "\n",
    "    return deduped_texts"
   ]
  },
  {
   "cell_type": "code",
   "execution_count": 17,
   "id": "2747c327-9d53-46ed-a6f3-ae3807bcf7a5",
   "metadata": {
    "execution": {
     "iopub.execute_input": "2025-02-14T13:53:22.491797Z",
     "iopub.status.busy": "2025-02-14T13:53:22.491387Z",
     "iopub.status.idle": "2025-02-14T13:53:22.500721Z",
     "shell.execute_reply": "2025-02-14T13:53:22.499919Z",
     "shell.execute_reply.started": "2025-02-14T13:53:22.491772Z"
    },
    "tags": []
   },
   "outputs": [
    {
     "name": "stdout",
     "output_type": "stream",
     "text": [
      "До удаления почти дублей: 88\n",
      "После удаления почти дублей: 17\n"
     ]
    },
    {
     "name": "stderr",
     "output_type": "stream",
     "text": [
      "/home/jovyan/.local/lib/python3.10/site-packages/sklearn/utils/deprecation.py:151: FutureWarning: 'force_all_finite' was renamed to 'ensure_all_finite' in 1.6 and will be removed in 1.8.\n",
      "  warnings.warn(\n",
      "/home/jovyan/.local/lib/python3.10/site-packages/sklearn/utils/deprecation.py:151: FutureWarning: 'force_all_finite' was renamed to 'ensure_all_finite' in 1.6 and will be removed in 1.8.\n",
      "  warnings.warn(\n"
     ]
    }
   ],
   "source": [
    "clean_texts = remove_near_duplicates_hdbscan(\n",
    "    selected_texts=final_texts_for_annotation,\n",
    "    embedding_dict=embedding_dict,\n",
    "    min_cluster_size=2\n",
    ")\n",
    "\n",
    "print(\"До удаления почти дублей:\", len(final_texts_for_annotation))\n",
    "print(\"После удаления почти дублей:\", len(clean_texts))"
   ]
  },
  {
   "cell_type": "code",
   "execution_count": null,
   "id": "2871c711-3a74-4882-a854-a47aece80aaf",
   "metadata": {},
   "outputs": [],
   "source": []
  }
 ],
 "metadata": {
  "kernelspec": {
   "display_name": "Python 3 (ipykernel)",
   "language": "python",
   "name": "python3"
  },
  "language_info": {
   "codemirror_mode": {
    "name": "ipython",
    "version": 3
   },
   "file_extension": ".py",
   "mimetype": "text/x-python",
   "name": "python",
   "nbconvert_exporter": "python",
   "pygments_lexer": "ipython3",
   "version": "3.10.11"
  }
 },
 "nbformat": 4,
 "nbformat_minor": 5
}
